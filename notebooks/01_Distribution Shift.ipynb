{
 "cells": [
  {
   "cell_type": "code",
   "execution_count": null,
   "metadata": {},
   "outputs": [],
   "source": [
    "# # 데이터 압축 풀기\n",
    "# !tar -xvJf /workspace/mvtec_anomaly_detection.tar.xz -C /workspace/data/MVTecAD"
   ]
  },
  {
   "cell_type": "markdown",
   "metadata": {},
   "source": [
    "# **0. 기본 설정**"
   ]
  },
  {
   "cell_type": "code",
   "execution_count": 1,
   "metadata": {},
   "outputs": [],
   "source": [
    "import os\n",
    "import random\n",
    "import numpy as np\n",
    "import torch"
   ]
  },
  {
   "cell_type": "code",
   "execution_count": 2,
   "metadata": {},
   "outputs": [],
   "source": [
    "import sys\n",
    "sys.path.append(os.path.abspath(\"..\")) # 상위 폴더 모듈 import"
   ]
  },
  {
   "cell_type": "code",
   "execution_count": 3,
   "metadata": {},
   "outputs": [],
   "source": [
    "### 재현성을 위한 시드 설정\n",
    "def torch_seed(random_seed):\n",
    "    torch.manual_seed(random_seed)\n",
    "    torch.cuda.manual_seed(random_seed)\n",
    "    torch.cuda.manual_seed_all(random_seed) # multi-GPU \n",
    "    \n",
    "    # CUDA randomness\n",
    "    torch.backends.cudnn.deterministic = True\n",
    "    torch.backends.cudnn.benchmark = False\n",
    "    \n",
    "    np.random.seed(random_seed)\n",
    "    random.seed(random_seed)\n",
    "    os.environ['PYTHONHASHSEED'] = str(random_seed)"
   ]
  },
  {
   "cell_type": "code",
   "execution_count": 4,
   "metadata": {},
   "outputs": [],
   "source": [
    "torch_seed(42)"
   ]
  },
  {
   "cell_type": "code",
   "execution_count": 5,
   "metadata": {},
   "outputs": [],
   "source": [
    "from easydict import EasyDict\n",
    "from tqdm import tqdm\n",
    "import pandas as pd\n",
    "\n",
    "from patchcore.model import PatchCore\n",
    "from datasets.factory import create_dataset\n",
    "from torch.utils.data import DataLoader"
   ]
  },
  {
   "cell_type": "code",
   "execution_count": 6,
   "metadata": {},
   "outputs": [],
   "source": [
    "## 실험 설정\n",
    "\n",
    "args = EasyDict(dict(\n",
    "    backbone=\"wide_resnet50_2\", # feature extractor\n",
    "    img_size=224,\n",
    "    device=\"cuda:0\",\n",
    "    batch_train=32,\n",
    "    batch_test=8,\n",
    "))"
   ]
  },
  {
   "cell_type": "code",
   "execution_count": 7,
   "metadata": {},
   "outputs": [],
   "source": [
    "## 모델\n",
    "# PatchCore(백본/전처리/임베딩 파이프라인 활용)\n",
    "\n",
    "model = PatchCore(\n",
    "    backbone=args.backbone,\n",
    "    faiss_on_gpu=True, \n",
    "    faiss_num_workers=4,\n",
    "    sampling_ratio=0.1,\n",
    "    device=args.device,\n",
    "    input_shape=(3, args.img_size, args.img_size) # (3, 224, 224)\n",
    ")"
   ]
  },
  {
   "cell_type": "markdown",
   "metadata": {},
   "source": [
    "# **1. 데이터 준비**"
   ]
  },
  {
   "cell_type": "code",
   "execution_count": 8,
   "metadata": {},
   "outputs": [],
   "source": [
    "## 데이터 경로\n",
    "\n",
    "from pathlib import Path\n",
    "\n",
    "# 절대 경로(환경에 맞게 조정)\n",
    "DATA_ROOT = \"/workspace/data\"  "
   ]
  },
  {
   "cell_type": "code",
   "execution_count": 9,
   "metadata": {},
   "outputs": [],
   "source": [
    "## 실험 재현성 보장\n",
    "\n",
    "def _seed_worker(worker_id):\n",
    "    import numpy as _np, random as _rd, torch as _th\n",
    "    \n",
    "    s = 42 + worker_id\n",
    "    \n",
    "    _np.random.seed(s)\n",
    "    _rd.seed(s)\n",
    "    _th.manual_seed(s)"
   ]
  },
  {
   "cell_type": "code",
   "execution_count": 10,
   "metadata": {},
   "outputs": [],
   "source": [
    "def create_dataloader(class_name, img_size=args.img_size, data_root=DATA_ROOT,\n",
    "                      num_workers=4, pin_memory=True):\n",
    "    \n",
    "    assert Path(data_root).exists(), f\"Data root not found: {data_root}\"\n",
    "    \n",
    "    trainset, testset = create_dataset(\n",
    "        dataset_name=\"MVTecAD\", # 사용할 데이터셋\n",
    "        datadir=data_root, # 최상위 데이터 경로\n",
    "        class_name=class_name, # 현재 대상 클래스(ex. bottle)\n",
    "        img_size=img_size, # 이미지 크기\n",
    "        mean=[0.485,0.456,0.406], \n",
    "        std=[0.229,0.224,0.225],\n",
    "        aug_info=[\"Resize\"],\n",
    "        baseline=True,\n",
    "        anomaly_ratio=0.0, # 정상 이미지만 활용\n",
    "    )\n",
    "    \n",
    "    assert len(trainset)>0, f\"No train samples for {class_name}\"\n",
    "    assert len(testset)>0,  f\"No test samples for {class_name}\"\n",
    "    \n",
    "    g = torch.Generator().manual_seed(42) # 시드 고정\n",
    "    tr = DataLoader(trainset, batch_size=args.batch_train, shuffle=True, \n",
    "                    num_workers=num_workers, pin_memory=pin_memory,\n",
    "                    worker_init_fn=_seed_worker, generator=g,\n",
    "                    persistent_workers=(num_workers>0)\n",
    "                    )\n",
    "    te = DataLoader(testset,  batch_size=args.batch_test, shuffle=False,\n",
    "                    num_workers=num_workers, pin_memory=pin_memory,\n",
    "                    worker_init_fn=_seed_worker, generator=g,\n",
    "                    persistent_workers=(num_workers>0))\n",
    "    \n",
    "    return tr, te"
   ]
  },
  {
   "cell_type": "markdown",
   "metadata": {},
   "source": [
    "# **2. Patch Embedding 추출**"
   ]
  },
  {
   "cell_type": "code",
   "execution_count": 11,
   "metadata": {},
   "outputs": [],
   "source": [
    "import torch.nn.functional as F"
   ]
  },
  {
   "cell_type": "code",
   "execution_count": 12,
   "metadata": {},
   "outputs": [],
   "source": [
    "@torch.inference_mode()\n",
    "def _embed_batch(images):\n",
    "    \"\"\"\n",
    "    PatchCore 파이프라인\n",
    "    - feature_aggregator → patchify(+spatial) → 해상도 정렬(보간) → preprocessing → preadapt_aggregator\n",
    "    - 항상 (N, D_fixed) float32 ndarray를 반환\n",
    "    \"\"\"\n",
    "    model.eval()\n",
    "    device = args.device\n",
    "    \n",
    "    \n",
    "    ## 레이아웃/타입 최적화\n",
    "    x = images.contiguous(memory_format=torch.channels_last).to(device, non_blocking=True)\n",
    "    if x.dtype != torch.float32:\n",
    "        x = x.float()\n",
    "\n",
    "\n",
    "    ## 1) 중간 레이어 특징 추출\n",
    "    feat_agg = model.forward_modules[\"feature_aggregator\"].eval()\n",
    "    feats_dict = feat_agg(x)  # {'layer2': (B,512,28,28), 'layer3': (B,1024,14,14) ...}\n",
    "\n",
    "\n",
    "    ## 2) 사용할 레이어만 선택 (보통 ['layer2','layer3'])\n",
    "    feats = [feats_dict[layer] for layer in model.layers_to_extract_from]\n",
    "\n",
    "\n",
    "    ## 3) 패치화 + 공간 크기 정보\n",
    "    # 각 요소: (patched, patch_shape)\n",
    "    # patched: (B, P, C, k, k),  patch_shape: [Hp, Wp]  (예: [28,28], [14,14])\n",
    "    patched_with_info = [model.patch_maker.patchify(f, return_spatial_info=True) for f in feats]\n",
    "    patch_shapes = [p[1] for p in patched_with_info] # [[Hp1,Wp1], [Hp2,Wp2], ...]\n",
    "    patched = [p[0] for p in patched_with_info]      # list of (B,P,C,k,k)\n",
    "\n",
    "\n",
    "    ## 4) 첫 레이어의 패치 그리드를 기준(레퍼런스)으로 맞춤\n",
    "    ref_Hp, ref_Wp = patch_shapes[0] # 예: 28, 28\n",
    "                               \n",
    "    for i in range(1, len(patched)):\n",
    "        _x = patched[i] # (B, P, C, k, k)                                       \n",
    "        Hp_i, Wp_i = patch_shapes[i]\n",
    "\n",
    "        # (B,P,C,k,k) → (B,Hp_i,Wp_i,C,k,k)\n",
    "        _x = _x.reshape(_x.shape[0], Hp_i, Wp_i, *_x.shape[2:]) # (batch)*(grid)로 복원\n",
    "        # → (B,C,k,k,Hp_i,Wp_i)\n",
    "        _x = _x.permute(0, 3, 4, 5, 1, 2).contiguous()\n",
    "        base_shape = _x.shape                      \n",
    "\n",
    "        # → (B*C*k*k, Hp_i, Wp_i)\n",
    "        _x = _x.reshape(-1, Hp_i, Wp_i)\n",
    "        \n",
    "        # bilinear 보간 → (ref_Hp, ref_Wp)\n",
    "        _x = F.interpolate(_x.unsqueeze(1), size=(ref_Hp, ref_Wp),\n",
    "                           mode=\"bilinear\", align_corners=False).squeeze(1)\n",
    "        \n",
    "        # 복원\n",
    "        _x = _x.reshape(*base_shape[:-2], ref_Hp, ref_Wp) # (B, C, k, k, ref_Hp, ref_Wp)\n",
    "        _x = _x.permute(0, 4, 5, 1, 2, 3).contiguous() # (B, ref_Hp, ref_Wp, C, k, k)\n",
    "        _x = _x.reshape(_x.shape[0], ref_Hp*ref_Wp, *_x.shape[3:]) # (B, ref_Hp*ref_Wp, C, k, k)\n",
    "        patched[i] = _x\n",
    "\n",
    "\n",
    "    ## 5) (B,P,C,k,k) 리스트 → (B*P, C, k, k) 리스트\n",
    "    patched_flat = [p.reshape(-1, *p.shape[-3:]).contiguous() for p in patched]\n",
    "\n",
    "\n",
    "    ## 6) preprocessing(정규화 등) → (N, D_fixed) torch.Tensor\n",
    "    proc = model.forward_modules[\"preprocessing\"](patched_flat)\n",
    "    out  = model.forward_modules[\"preadapt_aggregator\"](proc)\n",
    "\n",
    "\n",
    "    ## 7) 안전 변환(동기화 → CPU → numpy float32)\n",
    "    if out.is_cuda:\n",
    "        torch.cuda.synchronize()\n",
    "    out = out.detach().contiguous().to(\"cpu\").numpy().astype(np.float32, copy=False)\n",
    "    \n",
    "    \n",
    "    ## 8) 2D 보장\n",
    "    if out.ndim == 1:\n",
    "        out = out.reshape(1, -1)\n",
    "    elif out.ndim > 2:\n",
    "        out = out.reshape(-1, out.shape[-1])\n",
    "    return out"
   ]
  },
  {
   "cell_type": "code",
   "execution_count": 13,
   "metadata": {},
   "outputs": [],
   "source": [
    "def collect_train_test_normals(class_name, max_patches_per_img=0):\n",
    "    \"\"\"\n",
    "    train-normal vs test-normal 패치 임베딩 모음 (np.ndarray, np.ndarray)\n",
    "    \"\"\"\n",
    "    ## 데이터 준비(dataloader 선언)\n",
    "    tr_loader, te_loader = create_dataloader(class_name)\n",
    "\n",
    "    def cap(X, k, seed):\n",
    "        if k<=0 or X.size==0: \n",
    "            return X\n",
    "        n = min(k, len(X))\n",
    "        idx = np.random.default_rng(seed).choice(len(X), n, replace=False)\n",
    "        return X[idx]\n",
    "    \n",
    "    \n",
    "    ## train normal \n",
    "    # trainloader는 normal만\n",
    "    train_feats = []\n",
    "    for batch in tqdm(tr_loader, desc=f\"{class_name} train(normal)\"):\n",
    "        imgs = batch[0]  # (imgs, labels, cls_labels) 형태\n",
    "        X = _embed_batch(imgs)\n",
    "        \n",
    "        if max_patches_per_img > 0:\n",
    "            X = cap(X, max_patches_per_img * len(imgs), seed=0)\n",
    "        if X.size > 0:\n",
    "            train_feats.append(X)\n",
    "            \n",
    "    if len(train_feats) == 0:\n",
    "        raise ValueError(f\"[{class_name}] no train-normal features extracted.\")\n",
    "    Xtrain = np.concatenate(train_feats, axis=0).astype(np.float32, copy=False)\n",
    "\n",
    "\n",
    "    ## test normal\n",
    "    # testloader엔 이상이 섞임 → 정상만 필터링\n",
    "    test_feats = []\n",
    "    for batch in tqdm(te_loader, desc=f\"{class_name} test(normal+abnormal)\"):\n",
    "        imgs = batch[0]\n",
    "        labels = batch[1]\n",
    "        \n",
    "        # 정상(0) 마스크\n",
    "        if hasattr(labels, \"numpy\") or hasattr(labels, \"cpu\"):\n",
    "            mask = (labels == 0)\n",
    "        else:\n",
    "            mask = np.array(labels) == 0\n",
    "        if mask.sum() == 0:\n",
    "            continue\n",
    "        \n",
    "        imgs_norm = imgs[mask]\n",
    "        X = _embed_batch(imgs_norm)\n",
    "        \n",
    "        if max_patches_per_img > 0:\n",
    "            X = cap(X, max_patches_per_img * int(mask.sum()), seed=1)\n",
    "        if X.size > 0:\n",
    "            test_feats.append(X)\n",
    "    \n",
    "    if len(test_feats) == 0:\n",
    "        raise ValueError(f\"[{class_name}] no test-normal features found.\")\n",
    "    \n",
    "    Xtest = np.concatenate(test_feats, axis=0).astype(np.float32, copy=False)\n",
    "\n",
    "    return Xtrain, Xtest"
   ]
  },
  {
   "cell_type": "markdown",
   "metadata": {},
   "source": [
    "# **3. 분포 차이 측정**"
   ]
  },
  {
   "cell_type": "code",
   "execution_count": 14,
   "metadata": {},
   "outputs": [],
   "source": [
    "from sklearn.covariance import LedoitWolf # 공분산 행렬 추정"
   ]
  },
  {
   "cell_type": "markdown",
   "metadata": {},
   "source": [
    "## **3-1. 정량적 지표**"
   ]
  },
  {
   "cell_type": "code",
   "execution_count": 15,
   "metadata": {},
   "outputs": [],
   "source": [
    "def subsample(X, max_n = 4000, seed = 0):\n",
    "    if len(X) <= max_n: \n",
    "        return X\n",
    "    rng = np.random.default_rng(seed)\n",
    "    \n",
    "    return X[rng.choice(len(X), max_n, replace=False)]"
   ]
  },
  {
   "cell_type": "code",
   "execution_count": 16,
   "metadata": {},
   "outputs": [],
   "source": [
    "def standardize_by(X, Y):\n",
    "    mu = X.mean(0)\n",
    "    sd = X.std(0) + 1e-6\n",
    "    \n",
    "    return (X-mu)/sd, (Y-mu)/sd"
   ]
  },
  {
   "cell_type": "code",
   "execution_count": 17,
   "metadata": {},
   "outputs": [],
   "source": [
    "def mmd_rbf(X,Y, gammas=(0.5,1,2)):\n",
    "    def k(A,B,g):\n",
    "        A2 = (A**2).sum(1)[:,None]\n",
    "        B2 = (B**2).sum(1)[None,:]\n",
    "        d2 = A2 + B2 - 2*A@B.T\n",
    "        return np.exp(-g*d2)\n",
    "    \n",
    "    m, n = len(X), len(Y)\n",
    "    if m<2 or n<2: \n",
    "        return float(\"nan\")\n",
    "    \n",
    "    val = 0.\n",
    "    # 분모가 0이 되는 상황 방지\n",
    "    denom_x = max(m*(m-1), 1)\n",
    "    denom_y = max(n*(n-1), 1)\n",
    "    \n",
    "    for g in gammas:\n",
    "        Kxx = k(X,X,g)\n",
    "        Kyy = k(Y,Y,g)\n",
    "        Kxy = k(X,Y,g)\n",
    "        val += (Kxx.sum()-np.trace(Kxx))/denom_x + (Kyy.sum()-np.trace(Kyy))/denom_y - 2*Kxy.mean()\n",
    "    \n",
    "    return float(val/len(gammas))"
   ]
  },
  {
   "cell_type": "code",
   "execution_count": 18,
   "metadata": {},
   "outputs": [],
   "source": [
    "def fid_like(X, Y):\n",
    "    mu1, mu2 = X.mean(0), Y.mean(0)\n",
    "    \n",
    "    try:\n",
    "        S1 = LedoitWolf().fit(X).covariance_\n",
    "        S2 = LedoitWolf().fit(Y).covariance_\n",
    "    except Exception:\n",
    "        # fallback: diag 공분산\n",
    "        S1 = np.diag(X.var(0) + 1e-6)\n",
    "        S2 = np.diag(Y.var(0) + 1e-6)\n",
    "    \n",
    "    s = np.linalg.svd(S1@S2, compute_uv=False)\n",
    "    tr_sqrt = np.sum(np.sqrt(np.abs(s)))\n",
    "    \n",
    "    return float(np.sum((mu1 - mu2)**2) + np.trace(S1 + S2) - 2*tr_sqrt)\n"
   ]
  },
  {
   "cell_type": "code",
   "execution_count": 19,
   "metadata": {},
   "outputs": [],
   "source": [
    "def compute_shift_metrics(train_feats, test_feats, max_n=4000):\n",
    "    if len(train_feats)<2 or len(test_feats)<2:\n",
    "        raise ValueError(f\"Too few patches for metrics: train={len(train_feats)}, test={len(test_feats)}\")\n",
    "    \n",
    "    X = subsample(train_feats, max_n)\n",
    "    Y = subsample(test_feats, max_n)\n",
    "    \n",
    "    Xn,Yn = standardize_by(X,Y)\n",
    "    \n",
    "    return {\"MMD\": mmd_rbf(Xn,Yn), \n",
    "            \"FID\": fid_like(Xn,Yn)}"
   ]
  },
  {
   "cell_type": "code",
   "execution_count": 20,
   "metadata": {},
   "outputs": [],
   "source": [
    "def to_zavg_table(metrics_dict):\n",
    "    df = pd.DataFrame(metrics_dict).T\n",
    "    \n",
    "    for c in df.columns:\n",
    "        df[c] = (df[c]-df[c].mean()) / (df[c].std() + 1e-12)\n",
    "        \n",
    "    df[\"D\"] = df.mean(1)  # z-정규화 평균을 종합 지수 D로 사용\n",
    "    \n",
    "    return df"
   ]
  },
  {
   "cell_type": "markdown",
   "metadata": {},
   "source": [
    "## **3-2. 시각화(정성적 지표)**"
   ]
  },
  {
   "cell_type": "markdown",
   "metadata": {},
   "source": [
    "### **t-SNE**"
   ]
  },
  {
   "cell_type": "code",
   "execution_count": 21,
   "metadata": {},
   "outputs": [],
   "source": [
    "import matplotlib.pyplot as plt\n",
    "\n",
    "import cupy as cp\n",
    "from cuml.manifold import TSNE as cuTSNE\n",
    "\n",
    "from sklearn.manifold import TSNE as skTSNE"
   ]
  },
  {
   "cell_type": "code",
   "execution_count": 22,
   "metadata": {},
   "outputs": [],
   "source": [
    "def tsne_plot(X, Y, title=\"\", perpl=30, save=None, seed=0):\n",
    "    Z = np.concatenate([X, Y], 0).astype(np.float32, copy=False)\n",
    "    lab = np.array([0]*len(X) + [1]*len(Y)) # 0: train normal, 1: test normal\n",
    "    \n",
    "    # perplexity 조정\n",
    "    N = len(Z)\n",
    "    perpl = min(perpl, max(3, N//3))\n",
    "    \n",
    "    if N < 4:\n",
    "        raise ValueError(f\"t-SNE requires at least 4 samples, got N={N}\")\n",
    "    \n",
    "    \n",
    "    ## 1) 먼저 cuML 시도 (GPU), 실패 시 sklearn (CPU)로 안전 폴백\n",
    "    try:\n",
    "        dev = torch.cuda.current_device() if torch.cuda.is_available() else 0\n",
    "        try: \n",
    "            cp.cuda.Device(dev).use()\n",
    "        except: \n",
    "            pass\n",
    "        Zg = cp.asarray(Z)\n",
    "        ts_g = cuTSNE(\n",
    "            n_components=2,\n",
    "            perplexity=float(perpl),\n",
    "            learning_rate=200,    # cuML은 숫자만 허용\n",
    "            random_state=seed,\n",
    "            verbose=0,\n",
    "        ).fit_transform(Zg)\n",
    "        ts = cp.asnumpy(ts_g)\n",
    "        backend = \"cuML\"\n",
    "    \n",
    "    \n",
    "    ## 2) 실패 시 sklearn (CPU)로 안전 폴백\n",
    "    except Exception:\n",
    "        ts = skTSNE(n_components=2, \n",
    "                    perplexity=perpl,\n",
    "                    init=\"random\", \n",
    "                    random_state=seed\n",
    "                   ).fit_transform(Z)\n",
    "        backend = \"sklearn\"\n",
    "        \n",
    "        \n",
    "    ## 3) 시각화\n",
    "    plt.figure(figsize=(5,4))\n",
    "    \n",
    "    plt.scatter(ts[lab==0,0], ts[lab==0,1], s=6, alpha=.6, label=\"train normal\")\n",
    "    plt.scatter(ts[lab==1,0], ts[lab==1,1], s=6, alpha=.6, label=\"test normal\")\n",
    "    \n",
    "    plt.title(f\"{title}  [{backend}]\")\n",
    "    plt.legend()\n",
    "    plt.tight_layout()\n",
    "    \n",
    "    if save:\n",
    "        plt.savefig(save, dpi=200)\n",
    "        plt.close(); return\n",
    "    \n",
    "    plt.show()"
   ]
  },
  {
   "cell_type": "markdown",
   "metadata": {},
   "source": [
    "### **UMAP**"
   ]
  },
  {
   "cell_type": "code",
   "execution_count": 23,
   "metadata": {},
   "outputs": [],
   "source": [
    "import umap"
   ]
  },
  {
   "cell_type": "code",
   "execution_count": 24,
   "metadata": {},
   "outputs": [],
   "source": [
    "def umap_plot(X, Y, title=\"\", save=None, seed=0):\n",
    "    \n",
    "    Z = np.concatenate([X,Y],0)\n",
    "    lab = np.array([0]*len(X)+[1]*len(Y))\n",
    "    U = umap.UMAP(n_components = 2, \n",
    "                  random_state = seed).fit_transform(Z)\n",
    "    \n",
    "    plt.figure(figsize = (5,4))\n",
    "    plt.scatter(U[lab==0,0], U[lab==0,1], s=6, alpha=.6, label=\"train normal\")\n",
    "    plt.scatter(U[lab==1,0], U[lab==1,1], s=6, alpha=.6, label=\"test normal\")\n",
    "    \n",
    "    plt.title(title)\n",
    "    plt.legend()\n",
    "    plt.tight_layout()\n",
    "    \n",
    "    if save: \n",
    "        plt.savefig(save, dpi=200)\n",
    "        plt.close()\n",
    "        return\n",
    "    \n",
    "    plt.show()"
   ]
  },
  {
   "cell_type": "markdown",
   "metadata": {},
   "source": [
    "# **4. 테스트**"
   ]
  },
  {
   "cell_type": "markdown",
   "metadata": {},
   "source": [
    "## **4-1. 한 클래스 먼저(샘플)**"
   ]
  },
  {
   "cell_type": "code",
   "execution_count": 25,
   "metadata": {},
   "outputs": [],
   "source": [
    "import os, gc\n",
    "\n",
    "os.environ[\"CUDA_LAUNCH_BLOCKING\"] = \"1\"  # 동기식 실행 활성화\n",
    "torch.cuda.empty_cache()  # GPU 메모리 정리"
   ]
  },
  {
   "cell_type": "code",
   "execution_count": 26,
   "metadata": {},
   "outputs": [],
   "source": [
    "target_cls = \"hazelnut\""
   ]
  },
  {
   "cell_type": "code",
   "execution_count": 27,
   "metadata": {},
   "outputs": [
    {
     "name": "stderr",
     "output_type": "stream",
     "text": [
      "hazelnut train(normal):   0%|          | 0/13 [00:00<?, ?it/s]/opt/conda/envs/patchcore/lib/python3.10/site-packages/torchvision/transforms/functional.py:1603: UserWarning: The default value of the antialias parameter of all the resizing transforms (Resize(), RandomResizedCrop(), etc.) will change from None to True in v0.17, in order to be consistent across the PIL and Tensor backends. To suppress this warning, directly pass antialias=True (recommended, future default), antialias=None (current default, which means False for Tensors and True for PIL), or antialias=False (only works on Tensors - PIL will still use antialiasing). This also applies if you are using the inference transforms from the models weights: update the call to weights.transforms(antialias=True).\n",
      "  warnings.warn(\n",
      "/opt/conda/envs/patchcore/lib/python3.10/site-packages/torchvision/transforms/functional.py:1603: UserWarning: The default value of the antialias parameter of all the resizing transforms (Resize(), RandomResizedCrop(), etc.) will change from None to True in v0.17, in order to be consistent across the PIL and Tensor backends. To suppress this warning, directly pass antialias=True (recommended, future default), antialias=None (current default, which means False for Tensors and True for PIL), or antialias=False (only works on Tensors - PIL will still use antialiasing). This also applies if you are using the inference transforms from the models weights: update the call to weights.transforms(antialias=True).\n",
      "  warnings.warn(\n",
      "/opt/conda/envs/patchcore/lib/python3.10/site-packages/torchvision/transforms/functional.py:1603: UserWarning: The default value of the antialias parameter of all the resizing transforms (Resize(), RandomResizedCrop(), etc.) will change from None to True in v0.17, in order to be consistent across the PIL and Tensor backends. To suppress this warning, directly pass antialias=True (recommended, future default), antialias=None (current default, which means False for Tensors and True for PIL), or antialias=False (only works on Tensors - PIL will still use antialiasing). This also applies if you are using the inference transforms from the models weights: update the call to weights.transforms(antialias=True).\n",
      "  warnings.warn(\n",
      "/opt/conda/envs/patchcore/lib/python3.10/site-packages/torchvision/transforms/functional.py:1603: UserWarning: The default value of the antialias parameter of all the resizing transforms (Resize(), RandomResizedCrop(), etc.) will change from None to True in v0.17, in order to be consistent across the PIL and Tensor backends. To suppress this warning, directly pass antialias=True (recommended, future default), antialias=None (current default, which means False for Tensors and True for PIL), or antialias=False (only works on Tensors - PIL will still use antialiasing). This also applies if you are using the inference transforms from the models weights: update the call to weights.transforms(antialias=True).\n",
      "  warnings.warn(\n",
      "hazelnut train(normal): 100%|██████████| 13/13 [00:05<00:00,  2.17it/s]\n",
      "hazelnut test(normal+abnormal):   0%|          | 0/14 [00:00<?, ?it/s]/opt/conda/envs/patchcore/lib/python3.10/site-packages/torchvision/transforms/functional.py:1603: UserWarning: The default value of the antialias parameter of all the resizing transforms (Resize(), RandomResizedCrop(), etc.) will change from None to True in v0.17, in order to be consistent across the PIL and Tensor backends. To suppress this warning, directly pass antialias=True (recommended, future default), antialias=None (current default, which means False for Tensors and True for PIL), or antialias=False (only works on Tensors - PIL will still use antialiasing). This also applies if you are using the inference transforms from the models weights: update the call to weights.transforms(antialias=True).\n",
      "  warnings.warn(\n",
      "/opt/conda/envs/patchcore/lib/python3.10/site-packages/torchvision/transforms/functional.py:1603: UserWarning: The default value of the antialias parameter of all the resizing transforms (Resize(), RandomResizedCrop(), etc.) will change from None to True in v0.17, in order to be consistent across the PIL and Tensor backends. To suppress this warning, directly pass antialias=True (recommended, future default), antialias=None (current default, which means False for Tensors and True for PIL), or antialias=False (only works on Tensors - PIL will still use antialiasing). This also applies if you are using the inference transforms from the models weights: update the call to weights.transforms(antialias=True).\n",
      "  warnings.warn(\n",
      "/opt/conda/envs/patchcore/lib/python3.10/site-packages/torchvision/transforms/functional.py:1603: UserWarning: The default value of the antialias parameter of all the resizing transforms (Resize(), RandomResizedCrop(), etc.) will change from None to True in v0.17, in order to be consistent across the PIL and Tensor backends. To suppress this warning, directly pass antialias=True (recommended, future default), antialias=None (current default, which means False for Tensors and True for PIL), or antialias=False (only works on Tensors - PIL will still use antialiasing). This also applies if you are using the inference transforms from the models weights: update the call to weights.transforms(antialias=True).\n",
      "  warnings.warn(\n",
      "/opt/conda/envs/patchcore/lib/python3.10/site-packages/torchvision/transforms/functional.py:1603: UserWarning: The default value of the antialias parameter of all the resizing transforms (Resize(), RandomResizedCrop(), etc.) will change from None to True in v0.17, in order to be consistent across the PIL and Tensor backends. To suppress this warning, directly pass antialias=True (recommended, future default), antialias=None (current default, which means False for Tensors and True for PIL), or antialias=False (only works on Tensors - PIL will still use antialiasing). This also applies if you are using the inference transforms from the models weights: update the call to weights.transforms(antialias=True).\n",
      "  warnings.warn(\n",
      "hazelnut test(normal+abnormal): 100%|██████████| 14/14 [00:01<00:00,  7.39it/s]\n"
     ]
    },
    {
     "name": "stdout",
     "output_type": "stream",
     "text": [
      "train patches: 306544 test patches: 31360\n"
     ]
    }
   ],
   "source": [
    "# 정량: 원본 차원 기준(패치 전부 사용하려면 max_patches_per_img=0)\n",
    "Xtr, Xte = collect_train_test_normals(target_cls, max_patches_per_img=0)\n",
    "\n",
    "print(\"train patches:\", len(Xtr), \"test patches:\", len(Xte))"
   ]
  },
  {
   "cell_type": "code",
   "execution_count": 28,
   "metadata": {},
   "outputs": [
    {
     "name": "stdout",
     "output_type": "stream",
     "text": [
      "metrics: {'MMD': 1.165045493097997e-09, 'FID': 77.6463623046875}\n"
     ]
    }
   ],
   "source": [
    "print(\"metrics:\", compute_shift_metrics(Xtr, Xte))"
   ]
  },
  {
   "cell_type": "code",
   "execution_count": 29,
   "metadata": {},
   "outputs": [
    {
     "data": {
      "image/png": "[encoded data removed]",
      "text/plain": [
       "<Figure size 500x400 with 1 Axes>"
      ]
     },
     "metadata": {},
     "output_type": "display_data"
    }
   ],
   "source": [
    "# 정성: 이미지 단위\n",
    "tsne_plot(Xtr, Xte, title=f\"{target_cls}\")"
   ]
  },
  {
   "cell_type": "code",
   "execution_count": 30,
   "metadata": {},
   "outputs": [
    {
     "name": "stderr",
     "output_type": "stream",
     "text": [
      "/opt/conda/envs/patchcore/lib/python3.10/site-packages/umap/umap_.py:1952: UserWarning: n_jobs value 1 overridden to 1 by setting random_state. Use no seed for parallelism.\n",
      "  warn(\n"
     ]
    }
   ],
   "source": [
    "umap_plot(Xtr, Xte, title=f\"{target_cls} UMAP\")"
   ]
  },
  {
   "cell_type": "markdown",
   "metadata": {},
   "source": [
    "## **4-2. 전체 실행**"
   ]
  },
  {
   "cell_type": "code",
   "execution_count": null,
   "metadata": {},
   "outputs": [],
   "source": []
  }
 ],
 "metadata": {
  "kernelspec": {
   "display_name": "Python 3",
   "language": "python",
   "name": "python3"
  },
  "language_info": {
   "codemirror_mode": {
    "name": "ipython",
    "version": 3
   },
   "file_extension": ".py",
   "mimetype": "text/x-python",
   "name": "python",
   "nbconvert_exporter": "python",
   "pygments_lexer": "ipython3",
   "version": "3.10.18"
  }
 },
 "nbformat": 4,
 "nbformat_minor": 2
}
